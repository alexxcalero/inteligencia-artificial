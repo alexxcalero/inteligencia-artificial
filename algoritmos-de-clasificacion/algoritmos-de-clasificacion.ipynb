{
  "nbformat": 4,
  "nbformat_minor": 0,
  "metadata": {
    "kernelspec": {
      "display_name": "Python 3",
      "language": "python",
      "name": "python3"
    },
    "language_info": {
      "codemirror_mode": {
        "name": "ipython",
        "version": 3
      },
      "file_extension": ".py",
      "mimetype": "text/x-python",
      "name": "python",
      "nbconvert_exporter": "python",
      "pygments_lexer": "ipython3",
      "version": "3.8.3"
    },
    "colab": {
      "provenance": []
    }
  },
  "cells": [
    {
      "cell_type": "markdown",
      "metadata": {
        "id": "xHiqsu7_OOVs"
      },
      "source": [
        "# INTELIGENCIA ARTIFICIAL (1INF24)\n",
        "Dr. Edwin Villanueva Talavera (ervillanueva@pucp.edu.pe)"
      ]
    },
    {
      "cell_type": "markdown",
      "metadata": {
        "id": "M6TzqvtNOOVv"
      },
      "source": [
        "# Entrenando y Seleccionando Modelos Simples de Clasificación"
      ]
    },
    {
      "cell_type": "code",
      "metadata": {
        "id": "atX9ORlTOOVw"
      },
      "source": [
        "# Cargar librerias y modulos\n",
        "import pandas as pd\n",
        "import numpy as np\n",
        "import matplotlib.pyplot as plt\n",
        "\n",
        "from sklearn.feature_selection import SelectKBest  # Para seleccionar atributos de forma univariada (filtros)\n",
        "from sklearn.feature_selection import chi2  # Estadististica para evaluar la importancia de atributos en relacion al target\n",
        "from sklearn.feature_selection import RFE   # Metodo recursive featute elimination\n",
        "from sklearn.decomposition import PCA       # Para transformacion PCA\n",
        "\n",
        "from sklearn.discriminant_analysis import LinearDiscriminantAnalysis  # Para modelos discriminantes lineales\n",
        "from sklearn.naive_bayes import GaussianNB  # Para modelos Naive Bayes\n",
        "from sklearn.linear_model import LogisticRegression  # Para usar modelos de regresion logistica\n",
        "from sklearn.tree import DecisionTreeClassifier      # Para usar modelos de tipo arboles de decision\n",
        "from sklearn.neighbors import KNeighborsClassifier   # Para modelos Knn\n",
        "from sklearn.svm import SVC  # Para modelos SVM\n",
        "\n",
        "from sklearn.model_selection import train_test_split  # Para partir los datos en conjuntos de entrenamiento y validacion\n",
        "from sklearn.model_selection import KFold  # Para partir la data en k-folds\n",
        "from sklearn.model_selection import cross_val_score  # Para evaluar algoritmos en cross validacion\n",
        "\n",
        "from sklearn.metrics import accuracy_score, balanced_accuracy_score  # Para manejar metricas de desempeño\n",
        "from sklearn.metrics import classification_report  # Para hacer reportes de resultados de clasificacion\n",
        "from sklearn.metrics import confusion_matrix  # Para manejar matrices de confusion\n",
        "from sklearn.metrics import jaccard_score  # Indice jacard"
      ],
      "execution_count": 1,
      "outputs": []
    },
    {
      "cell_type": "markdown",
      "metadata": {
        "id": "NisIL3IwOOVx"
      },
      "source": [
        "Vamos a trabajar con el dataset <b>pima-indians-diabetes</b>."
      ]
    },
    {
      "cell_type": "code",
      "metadata": {
        "colab": {
          "base_uri": "https://localhost:8080/"
        },
        "id": "RT4lWbp3OOVx",
        "outputId": "b439046a-d19c-4d58-da73-ec315ded02aa"
      },
      "source": [
        "# Carga el dataset pima-indians-diabetes\n",
        "filename = 'pima-indians-diabetes.data.csv'\n",
        "names = ['preg', 'plas', 'pres', 'skin', 'test', 'mass', 'pedi', 'age', 'class']\n",
        "dataset = pd.read_csv(filename, names = names)\n",
        "\n",
        "# Separa el dataset en atributos (X) y target (y)\n",
        "array = dataset.values\n",
        "X = array[:, 0:8]  # Atributos\n",
        "y = array[:, 8]    # Target\n",
        "\n",
        "# Realiza el train-test split\n",
        "vadid_fraction = 0.20  # Proporcion de muestras para validacion\n",
        "seed = 7  # Semilla para el generador aleatorio (para reproductibilidad)\n",
        "X_train, X_valid, y_train, y_valid = train_test_split(X, y, test_size = vadid_fraction, random_state = seed)\n",
        "\n",
        "print('Training: %d ejemplos. Validation: %d ejemplos' % (len(y_train), len(y_valid)))"
      ],
      "execution_count": 2,
      "outputs": [
        {
          "output_type": "stream",
          "name": "stdout",
          "text": [
            "Training: 614 ejemplos. Validation: 154 ejemplos\n"
          ]
        }
      ]
    },
    {
      "cell_type": "code",
      "source": [
        "dataset.describe()"
      ],
      "metadata": {
        "colab": {
          "base_uri": "https://localhost:8080/",
          "height": 300
        },
        "id": "es-Kz8Y3R-61",
        "outputId": "aaab14f8-4849-4dce-85cb-12455812b1a5"
      },
      "execution_count": 3,
      "outputs": [
        {
          "output_type": "execute_result",
          "data": {
            "text/plain": [
              "             preg        plas        pres        skin        test        mass  \\\n",
              "count  768.000000  768.000000  768.000000  768.000000  768.000000  768.000000   \n",
              "mean     3.845052  120.894531   69.105469   20.536458   79.799479   31.992578   \n",
              "std      3.369578   31.972618   19.355807   15.952218  115.244002    7.884160   \n",
              "min      0.000000    0.000000    0.000000    0.000000    0.000000    0.000000   \n",
              "25%      1.000000   99.000000   62.000000    0.000000    0.000000   27.300000   \n",
              "50%      3.000000  117.000000   72.000000   23.000000   30.500000   32.000000   \n",
              "75%      6.000000  140.250000   80.000000   32.000000  127.250000   36.600000   \n",
              "max     17.000000  199.000000  122.000000   99.000000  846.000000   67.100000   \n",
              "\n",
              "             pedi         age       class  \n",
              "count  768.000000  768.000000  768.000000  \n",
              "mean     0.471876   33.240885    0.348958  \n",
              "std      0.331329   11.760232    0.476951  \n",
              "min      0.078000   21.000000    0.000000  \n",
              "25%      0.243750   24.000000    0.000000  \n",
              "50%      0.372500   29.000000    0.000000  \n",
              "75%      0.626250   41.000000    1.000000  \n",
              "max      2.420000   81.000000    1.000000  "
            ],
            "text/html": [
              "\n",
              "  <div id=\"df-c681dffb-0088-4971-a3f5-af950b301614\" class=\"colab-df-container\">\n",
              "    <div>\n",
              "<style scoped>\n",
              "    .dataframe tbody tr th:only-of-type {\n",
              "        vertical-align: middle;\n",
              "    }\n",
              "\n",
              "    .dataframe tbody tr th {\n",
              "        vertical-align: top;\n",
              "    }\n",
              "\n",
              "    .dataframe thead th {\n",
              "        text-align: right;\n",
              "    }\n",
              "</style>\n",
              "<table border=\"1\" class=\"dataframe\">\n",
              "  <thead>\n",
              "    <tr style=\"text-align: right;\">\n",
              "      <th></th>\n",
              "      <th>preg</th>\n",
              "      <th>plas</th>\n",
              "      <th>pres</th>\n",
              "      <th>skin</th>\n",
              "      <th>test</th>\n",
              "      <th>mass</th>\n",
              "      <th>pedi</th>\n",
              "      <th>age</th>\n",
              "      <th>class</th>\n",
              "    </tr>\n",
              "  </thead>\n",
              "  <tbody>\n",
              "    <tr>\n",
              "      <th>count</th>\n",
              "      <td>768.000000</td>\n",
              "      <td>768.000000</td>\n",
              "      <td>768.000000</td>\n",
              "      <td>768.000000</td>\n",
              "      <td>768.000000</td>\n",
              "      <td>768.000000</td>\n",
              "      <td>768.000000</td>\n",
              "      <td>768.000000</td>\n",
              "      <td>768.000000</td>\n",
              "    </tr>\n",
              "    <tr>\n",
              "      <th>mean</th>\n",
              "      <td>3.845052</td>\n",
              "      <td>120.894531</td>\n",
              "      <td>69.105469</td>\n",
              "      <td>20.536458</td>\n",
              "      <td>79.799479</td>\n",
              "      <td>31.992578</td>\n",
              "      <td>0.471876</td>\n",
              "      <td>33.240885</td>\n",
              "      <td>0.348958</td>\n",
              "    </tr>\n",
              "    <tr>\n",
              "      <th>std</th>\n",
              "      <td>3.369578</td>\n",
              "      <td>31.972618</td>\n",
              "      <td>19.355807</td>\n",
              "      <td>15.952218</td>\n",
              "      <td>115.244002</td>\n",
              "      <td>7.884160</td>\n",
              "      <td>0.331329</td>\n",
              "      <td>11.760232</td>\n",
              "      <td>0.476951</td>\n",
              "    </tr>\n",
              "    <tr>\n",
              "      <th>min</th>\n",
              "      <td>0.000000</td>\n",
              "      <td>0.000000</td>\n",
              "      <td>0.000000</td>\n",
              "      <td>0.000000</td>\n",
              "      <td>0.000000</td>\n",
              "      <td>0.000000</td>\n",
              "      <td>0.078000</td>\n",
              "      <td>21.000000</td>\n",
              "      <td>0.000000</td>\n",
              "    </tr>\n",
              "    <tr>\n",
              "      <th>25%</th>\n",
              "      <td>1.000000</td>\n",
              "      <td>99.000000</td>\n",
              "      <td>62.000000</td>\n",
              "      <td>0.000000</td>\n",
              "      <td>0.000000</td>\n",
              "      <td>27.300000</td>\n",
              "      <td>0.243750</td>\n",
              "      <td>24.000000</td>\n",
              "      <td>0.000000</td>\n",
              "    </tr>\n",
              "    <tr>\n",
              "      <th>50%</th>\n",
              "      <td>3.000000</td>\n",
              "      <td>117.000000</td>\n",
              "      <td>72.000000</td>\n",
              "      <td>23.000000</td>\n",
              "      <td>30.500000</td>\n",
              "      <td>32.000000</td>\n",
              "      <td>0.372500</td>\n",
              "      <td>29.000000</td>\n",
              "      <td>0.000000</td>\n",
              "    </tr>\n",
              "    <tr>\n",
              "      <th>75%</th>\n",
              "      <td>6.000000</td>\n",
              "      <td>140.250000</td>\n",
              "      <td>80.000000</td>\n",
              "      <td>32.000000</td>\n",
              "      <td>127.250000</td>\n",
              "      <td>36.600000</td>\n",
              "      <td>0.626250</td>\n",
              "      <td>41.000000</td>\n",
              "      <td>1.000000</td>\n",
              "    </tr>\n",
              "    <tr>\n",
              "      <th>max</th>\n",
              "      <td>17.000000</td>\n",
              "      <td>199.000000</td>\n",
              "      <td>122.000000</td>\n",
              "      <td>99.000000</td>\n",
              "      <td>846.000000</td>\n",
              "      <td>67.100000</td>\n",
              "      <td>2.420000</td>\n",
              "      <td>81.000000</td>\n",
              "      <td>1.000000</td>\n",
              "    </tr>\n",
              "  </tbody>\n",
              "</table>\n",
              "</div>\n",
              "    <div class=\"colab-df-buttons\">\n",
              "\n",
              "  <div class=\"colab-df-container\">\n",
              "    <button class=\"colab-df-convert\" onclick=\"convertToInteractive('df-c681dffb-0088-4971-a3f5-af950b301614')\"\n",
              "            title=\"Convert this dataframe to an interactive table.\"\n",
              "            style=\"display:none;\">\n",
              "\n",
              "  <svg xmlns=\"http://www.w3.org/2000/svg\" height=\"24px\" viewBox=\"0 -960 960 960\">\n",
              "    <path d=\"M120-120v-720h720v720H120Zm60-500h600v-160H180v160Zm220 220h160v-160H400v160Zm0 220h160v-160H400v160ZM180-400h160v-160H180v160Zm440 0h160v-160H620v160ZM180-180h160v-160H180v160Zm440 0h160v-160H620v160Z\"/>\n",
              "  </svg>\n",
              "    </button>\n",
              "\n",
              "  <style>\n",
              "    .colab-df-container {\n",
              "      display:flex;\n",
              "      gap: 12px;\n",
              "    }\n",
              "\n",
              "    .colab-df-convert {\n",
              "      background-color: #E8F0FE;\n",
              "      border: none;\n",
              "      border-radius: 50%;\n",
              "      cursor: pointer;\n",
              "      display: none;\n",
              "      fill: #1967D2;\n",
              "      height: 32px;\n",
              "      padding: 0 0 0 0;\n",
              "      width: 32px;\n",
              "    }\n",
              "\n",
              "    .colab-df-convert:hover {\n",
              "      background-color: #E2EBFA;\n",
              "      box-shadow: 0px 1px 2px rgba(60, 64, 67, 0.3), 0px 1px 3px 1px rgba(60, 64, 67, 0.15);\n",
              "      fill: #174EA6;\n",
              "    }\n",
              "\n",
              "    .colab-df-buttons div {\n",
              "      margin-bottom: 4px;\n",
              "    }\n",
              "\n",
              "    [theme=dark] .colab-df-convert {\n",
              "      background-color: #3B4455;\n",
              "      fill: #D2E3FC;\n",
              "    }\n",
              "\n",
              "    [theme=dark] .colab-df-convert:hover {\n",
              "      background-color: #434B5C;\n",
              "      box-shadow: 0px 1px 3px 1px rgba(0, 0, 0, 0.15);\n",
              "      filter: drop-shadow(0px 1px 2px rgba(0, 0, 0, 0.3));\n",
              "      fill: #FFFFFF;\n",
              "    }\n",
              "  </style>\n",
              "\n",
              "    <script>\n",
              "      const buttonEl =\n",
              "        document.querySelector('#df-c681dffb-0088-4971-a3f5-af950b301614 button.colab-df-convert');\n",
              "      buttonEl.style.display =\n",
              "        google.colab.kernel.accessAllowed ? 'block' : 'none';\n",
              "\n",
              "      async function convertToInteractive(key) {\n",
              "        const element = document.querySelector('#df-c681dffb-0088-4971-a3f5-af950b301614');\n",
              "        const dataTable =\n",
              "          await google.colab.kernel.invokeFunction('convertToInteractive',\n",
              "                                                    [key], {});\n",
              "        if (!dataTable) return;\n",
              "\n",
              "        const docLinkHtml = 'Like what you see? Visit the ' +\n",
              "          '<a target=\"_blank\" href=https://colab.research.google.com/notebooks/data_table.ipynb>data table notebook</a>'\n",
              "          + ' to learn more about interactive tables.';\n",
              "        element.innerHTML = '';\n",
              "        dataTable['output_type'] = 'display_data';\n",
              "        await google.colab.output.renderOutput(dataTable, element);\n",
              "        const docLink = document.createElement('div');\n",
              "        docLink.innerHTML = docLinkHtml;\n",
              "        element.appendChild(docLink);\n",
              "      }\n",
              "    </script>\n",
              "  </div>\n",
              "\n",
              "\n",
              "    <div id=\"df-1dd0c0e5-ce46-49a8-a2a1-0358ae497e96\">\n",
              "      <button class=\"colab-df-quickchart\" onclick=\"quickchart('df-1dd0c0e5-ce46-49a8-a2a1-0358ae497e96')\"\n",
              "                title=\"Suggest charts\"\n",
              "                style=\"display:none;\">\n",
              "\n",
              "<svg xmlns=\"http://www.w3.org/2000/svg\" height=\"24px\"viewBox=\"0 0 24 24\"\n",
              "     width=\"24px\">\n",
              "    <g>\n",
              "        <path d=\"M19 3H5c-1.1 0-2 .9-2 2v14c0 1.1.9 2 2 2h14c1.1 0 2-.9 2-2V5c0-1.1-.9-2-2-2zM9 17H7v-7h2v7zm4 0h-2V7h2v10zm4 0h-2v-4h2v4z\"/>\n",
              "    </g>\n",
              "</svg>\n",
              "      </button>\n",
              "\n",
              "<style>\n",
              "  .colab-df-quickchart {\n",
              "      --bg-color: #E8F0FE;\n",
              "      --fill-color: #1967D2;\n",
              "      --hover-bg-color: #E2EBFA;\n",
              "      --hover-fill-color: #174EA6;\n",
              "      --disabled-fill-color: #AAA;\n",
              "      --disabled-bg-color: #DDD;\n",
              "  }\n",
              "\n",
              "  [theme=dark] .colab-df-quickchart {\n",
              "      --bg-color: #3B4455;\n",
              "      --fill-color: #D2E3FC;\n",
              "      --hover-bg-color: #434B5C;\n",
              "      --hover-fill-color: #FFFFFF;\n",
              "      --disabled-bg-color: #3B4455;\n",
              "      --disabled-fill-color: #666;\n",
              "  }\n",
              "\n",
              "  .colab-df-quickchart {\n",
              "    background-color: var(--bg-color);\n",
              "    border: none;\n",
              "    border-radius: 50%;\n",
              "    cursor: pointer;\n",
              "    display: none;\n",
              "    fill: var(--fill-color);\n",
              "    height: 32px;\n",
              "    padding: 0;\n",
              "    width: 32px;\n",
              "  }\n",
              "\n",
              "  .colab-df-quickchart:hover {\n",
              "    background-color: var(--hover-bg-color);\n",
              "    box-shadow: 0 1px 2px rgba(60, 64, 67, 0.3), 0 1px 3px 1px rgba(60, 64, 67, 0.15);\n",
              "    fill: var(--button-hover-fill-color);\n",
              "  }\n",
              "\n",
              "  .colab-df-quickchart-complete:disabled,\n",
              "  .colab-df-quickchart-complete:disabled:hover {\n",
              "    background-color: var(--disabled-bg-color);\n",
              "    fill: var(--disabled-fill-color);\n",
              "    box-shadow: none;\n",
              "  }\n",
              "\n",
              "  .colab-df-spinner {\n",
              "    border: 2px solid var(--fill-color);\n",
              "    border-color: transparent;\n",
              "    border-bottom-color: var(--fill-color);\n",
              "    animation:\n",
              "      spin 1s steps(1) infinite;\n",
              "  }\n",
              "\n",
              "  @keyframes spin {\n",
              "    0% {\n",
              "      border-color: transparent;\n",
              "      border-bottom-color: var(--fill-color);\n",
              "      border-left-color: var(--fill-color);\n",
              "    }\n",
              "    20% {\n",
              "      border-color: transparent;\n",
              "      border-left-color: var(--fill-color);\n",
              "      border-top-color: var(--fill-color);\n",
              "    }\n",
              "    30% {\n",
              "      border-color: transparent;\n",
              "      border-left-color: var(--fill-color);\n",
              "      border-top-color: var(--fill-color);\n",
              "      border-right-color: var(--fill-color);\n",
              "    }\n",
              "    40% {\n",
              "      border-color: transparent;\n",
              "      border-right-color: var(--fill-color);\n",
              "      border-top-color: var(--fill-color);\n",
              "    }\n",
              "    60% {\n",
              "      border-color: transparent;\n",
              "      border-right-color: var(--fill-color);\n",
              "    }\n",
              "    80% {\n",
              "      border-color: transparent;\n",
              "      border-right-color: var(--fill-color);\n",
              "      border-bottom-color: var(--fill-color);\n",
              "    }\n",
              "    90% {\n",
              "      border-color: transparent;\n",
              "      border-bottom-color: var(--fill-color);\n",
              "    }\n",
              "  }\n",
              "</style>\n",
              "\n",
              "      <script>\n",
              "        async function quickchart(key) {\n",
              "          const quickchartButtonEl =\n",
              "            document.querySelector('#' + key + ' button');\n",
              "          quickchartButtonEl.disabled = true;  // To prevent multiple clicks.\n",
              "          quickchartButtonEl.classList.add('colab-df-spinner');\n",
              "          try {\n",
              "            const charts = await google.colab.kernel.invokeFunction(\n",
              "                'suggestCharts', [key], {});\n",
              "          } catch (error) {\n",
              "            console.error('Error during call to suggestCharts:', error);\n",
              "          }\n",
              "          quickchartButtonEl.classList.remove('colab-df-spinner');\n",
              "          quickchartButtonEl.classList.add('colab-df-quickchart-complete');\n",
              "        }\n",
              "        (() => {\n",
              "          let quickchartButtonEl =\n",
              "            document.querySelector('#df-1dd0c0e5-ce46-49a8-a2a1-0358ae497e96 button');\n",
              "          quickchartButtonEl.style.display =\n",
              "            google.colab.kernel.accessAllowed ? 'block' : 'none';\n",
              "        })();\n",
              "      </script>\n",
              "    </div>\n",
              "\n",
              "    </div>\n",
              "  </div>\n"
            ],
            "application/vnd.google.colaboratory.intrinsic+json": {
              "type": "dataframe",
              "summary": "{\n  \"name\": \"dataset\",\n  \"rows\": 8,\n  \"fields\": [\n    {\n      \"column\": \"preg\",\n      \"properties\": {\n        \"dtype\": \"number\",\n        \"std\": 269.85223453356366,\n        \"min\": 0.0,\n        \"max\": 768.0,\n        \"num_unique_values\": 8,\n        \"samples\": [\n          3.8450520833333335,\n          3.0,\n          768.0\n        ],\n        \"semantic_type\": \"\",\n        \"description\": \"\"\n      }\n    },\n    {\n      \"column\": \"plas\",\n      \"properties\": {\n        \"dtype\": \"number\",\n        \"std\": 243.73802348295857,\n        \"min\": 0.0,\n        \"max\": 768.0,\n        \"num_unique_values\": 8,\n        \"samples\": [\n          120.89453125,\n          117.0,\n          768.0\n        ],\n        \"semantic_type\": \"\",\n        \"description\": \"\"\n      }\n    },\n    {\n      \"column\": \"pres\",\n      \"properties\": {\n        \"dtype\": \"number\",\n        \"std\": 252.85250535810619,\n        \"min\": 0.0,\n        \"max\": 768.0,\n        \"num_unique_values\": 8,\n        \"samples\": [\n          69.10546875,\n          72.0,\n          768.0\n        ],\n        \"semantic_type\": \"\",\n        \"description\": \"\"\n      }\n    },\n    {\n      \"column\": \"skin\",\n      \"properties\": {\n        \"dtype\": \"number\",\n        \"std\": 263.7684730531098,\n        \"min\": 0.0,\n        \"max\": 768.0,\n        \"num_unique_values\": 7,\n        \"samples\": [\n          768.0,\n          20.536458333333332,\n          32.0\n        ],\n        \"semantic_type\": \"\",\n        \"description\": \"\"\n      }\n    },\n    {\n      \"column\": \"test\",\n      \"properties\": {\n        \"dtype\": \"number\",\n        \"std\": 350.26059167945886,\n        \"min\": 0.0,\n        \"max\": 846.0,\n        \"num_unique_values\": 7,\n        \"samples\": [\n          768.0,\n          79.79947916666667,\n          127.25\n        ],\n        \"semantic_type\": \"\",\n        \"description\": \"\"\n      }\n    },\n    {\n      \"column\": \"mass\",\n      \"properties\": {\n        \"dtype\": \"number\",\n        \"std\": 262.05117817552093,\n        \"min\": 0.0,\n        \"max\": 768.0,\n        \"num_unique_values\": 8,\n        \"samples\": [\n          31.992578124999998,\n          32.0,\n          768.0\n        ],\n        \"semantic_type\": \"\",\n        \"description\": \"\"\n      }\n    },\n    {\n      \"column\": \"pedi\",\n      \"properties\": {\n        \"dtype\": \"number\",\n        \"std\": 271.3005221658502,\n        \"min\": 0.078,\n        \"max\": 768.0,\n        \"num_unique_values\": 8,\n        \"samples\": [\n          0.47187630208333325,\n          0.3725,\n          768.0\n        ],\n        \"semantic_type\": \"\",\n        \"description\": \"\"\n      }\n    },\n    {\n      \"column\": \"age\",\n      \"properties\": {\n        \"dtype\": \"number\",\n        \"std\": 260.1941178528413,\n        \"min\": 11.76023154067868,\n        \"max\": 768.0,\n        \"num_unique_values\": 8,\n        \"samples\": [\n          33.240885416666664,\n          29.0,\n          768.0\n        ],\n        \"semantic_type\": \"\",\n        \"description\": \"\"\n      }\n    },\n    {\n      \"column\": \"class\",\n      \"properties\": {\n        \"dtype\": \"number\",\n        \"std\": 271.3865920388932,\n        \"min\": 0.0,\n        \"max\": 768.0,\n        \"num_unique_values\": 5,\n        \"samples\": [\n          0.3489583333333333,\n          1.0,\n          0.4769513772427971\n        ],\n        \"semantic_type\": \"\",\n        \"description\": \"\"\n      }\n    }\n  ]\n}"
            }
          },
          "metadata": {},
          "execution_count": 3
        }
      ]
    },
    {
      "cell_type": "code",
      "metadata": {
        "colab": {
          "base_uri": "https://localhost:8080/"
        },
        "id": "XZPq-hFEOOVy",
        "outputId": "bc8fcfb2-e674-495d-9a75-152f0b771dab"
      },
      "source": [
        "# Muestra la distribucion de las clases\n",
        "print(dataset.groupby('class').size())"
      ],
      "execution_count": 4,
      "outputs": [
        {
          "output_type": "stream",
          "name": "stdout",
          "text": [
            "class\n",
            "0    500\n",
            "1    268\n",
            "dtype: int64\n"
          ]
        }
      ]
    },
    {
      "cell_type": "markdown",
      "metadata": {
        "id": "UBsoFWUyOOVz"
      },
      "source": [
        "Es un problema de clasificación con clases desbalanceadas."
      ]
    },
    {
      "cell_type": "markdown",
      "metadata": {
        "id": "ZgNFE5oiOOVz"
      },
      "source": [
        "### Evalúa diferentes algoritmos de ML en crossvalidación\n",
        "\n",
        "No sabemos qué algoritmos de ML serán buenos para este problema o qué configuraciones usar.\n",
        "Vamos a evaluar 4 algoritmos de ML diferentes:\n",
        "\n",
        "    - Logistic Regression (LR)\n",
        "    - K-Nearest Neighbors (KNN).\n",
        "    - Classification and Regression Trees (CART)\n",
        "    - Support Vector Machines (SVM)"
      ]
    },
    {
      "cell_type": "code",
      "metadata": {
        "id": "WfPiDW0_OOV0"
      },
      "source": [
        "# Definimos el pool de algoritmos de ML a evaluar\n",
        "algos = []\n",
        "algos.append(('LogReg', LogisticRegression(solver = 'liblinear')))  # Genera logistic regresors con solver liblinear\n",
        "algos.append(('5NN', KNeighborsClassifier(n_neighbors = 5)))  # Genera knn con 5 vecinos\n",
        "algos.append(('10NN', KNeighborsClassifier(n_neighbors = 10)))  # Genera knn con 5 vecinos\n",
        "algos.append(('CART', DecisionTreeClassifier(max_depth = None)))  # Genera DT sin restriccion de profundidad\n",
        "algos.append(('SVM', SVC()))  # Genera SVMs con kernel radial (por default)"
      ],
      "execution_count": 5,
      "outputs": []
    },
    {
      "cell_type": "markdown",
      "metadata": {
        "id": "fWtFSwNHOOV0"
      },
      "source": [
        "La evaluación de cada algoritmo se realiza con los datos de training en estrategia de Crossvalidación con 10-folds. Se usa el mismo particionamiento de folds en cada algoritmo a evaluar para asegurar una comparación justa.\n",
        "\n",
        "La métrica de evaluación es 'balanced_accuracy', esta es el promedio de recalls en cada clase (recall(clase i) = proporción correctamente clasificada como clase i del total de ejemplos de clase i)."
      ]
    },
    {
      "cell_type": "code",
      "metadata": {
        "colab": {
          "base_uri": "https://localhost:8080/"
        },
        "id": "CkuBCTHtOOV1",
        "outputId": "6064fc8d-34f1-4b43-ffcb-312e2044bbcf"
      },
      "source": [
        "# Evaluamos cada algoritmo de ML en estrategia de 10-fold-CV\n",
        "results = []\n",
        "names = []\n",
        "\n",
        "# Genera el particionamiento de 10 folds que seran usados en cada evaluacion\n",
        "seed = 7\n",
        "kfold = KFold(n_splits = 10, random_state = seed, shuffle = True)  # Especifica el particionador de datos a 10-folds CV\n",
        "\n",
        "# Evalua cada algoritmo de ML\n",
        "for algoname, algo in algos:\n",
        "    cv_results = cross_val_score(algo, X_train, y_train, cv = kfold, scoring = 'balanced_accuracy')\n",
        "    results.append(cv_results)\n",
        "    names.append(algoname)\n",
        "    print(\"{}: {} ({})\".format(algoname, cv_results.mean(), cv_results.std()))"
      ],
      "execution_count": 6,
      "outputs": [
        {
          "output_type": "stream",
          "name": "stdout",
          "text": [
            "LogReg: 0.7037331071402841 (0.05720087195942163)\n",
            "5NN: 0.6704306613451869 (0.0662609974723939)\n",
            "10NN: 0.6706229314424152 (0.06439208569916693)\n",
            "CART: 0.6486659292312758 (0.06717734898378894)\n",
            "SVM: 0.6830105993698966 (0.050731752394481675)\n"
          ]
        }
      ]
    },
    {
      "cell_type": "code",
      "metadata": {
        "scrolled": true,
        "colab": {
          "base_uri": "https://localhost:8080/",
          "height": 478
        },
        "id": "Vwl6kHpxOOV1",
        "outputId": "f80c2b6b-d871-42b1-f879-2c94f009fa3a"
      },
      "source": [
        "# Muestra graficamente los resultados de balanced_accuracy en crossvalidacion de los algoritmos evaluados\n",
        "fig = plt.figure()\n",
        "fig.suptitle('balanced_accuracy obtenidas en 10-fold-CV')\n",
        "ax = fig.add_subplot(111)\n",
        "plt.boxplot(results)\n",
        "ax.set_xticklabels(names)\n",
        "plt.show()"
      ],
      "execution_count": 7,
      "outputs": [
        {
          "output_type": "display_data",
          "data": {
            "text/plain": [
              "<Figure size 640x480 with 1 Axes>"
            ],
            "image/png": "[encoded data removed]"
          },
          "metadata": {}
        }
      ]
    },
    {
      "cell_type": "markdown",
      "metadata": {
        "id": "PUba_oZxOOV1"
      },
      "source": [
        "### Entrena el modelo con el algoritmo seleccionado y lo prueba en datos de validación\n",
        "\n",
        "Ahora entrenaremos un modelo con el mejor algoritmo (LogisticRegression(solver='liblinear')) usando todos los datos de entrenamiento y lo evaluamos en la data separada para validación."
      ]
    },
    {
      "cell_type": "code",
      "metadata": {
        "colab": {
          "base_uri": "https://localhost:8080/"
        },
        "id": "x-zWqh5dOOV2",
        "outputId": "17ed2ab9-4547-4ce8-c9ec-f9e42c4c24ac"
      },
      "source": [
        "# Reentrena el modelo LR con todos los datos de entrenamiento y lo prueba en el conjunto de validacion\n",
        "model = LogisticRegression(solver = 'liblinear', class_weight = 'balanced')  # Usar (class_weight = 'balanced') para entrenar tomando en cuenta el desbalance\n",
        "model.fit(X_train, y_train)\n",
        "\n",
        "# Predice la clase del conjunto de validacion\n",
        "y_predicted = model.predict(X_valid)\n",
        "print(\"Balanced accuracy score:\", balanced_accuracy_score(y_valid, y_predicted))\n",
        "\n",
        "# Muestra la matriz de confusion donde un elemento Cij es el numero de ejemplos predichos como clase j que son realmente de clase i\n",
        "print(\"\\nMatriz de confusión:\")\n",
        "print(confusion_matrix(y_valid, y_predicted))\n",
        "\n",
        "# Muestra un reporte de la clasificacion en validacion\n",
        "print(\"\\nReporte de clasificación en conjunto de validación:\\n\")\n",
        "print(classification_report(y_valid, y_predicted))"
      ],
      "execution_count": 8,
      "outputs": [
        {
          "output_type": "stream",
          "name": "stdout",
          "text": [
            "Balanced accuracy score: 0.7864894194248508\n",
            "\n",
            "Matriz de confusión:\n",
            "[[76 21]\n",
            " [12 45]]\n",
            "\n",
            "Reporte de clasificación en conjunto de validación:\n",
            "\n",
            "              precision    recall  f1-score   support\n",
            "\n",
            "         0.0       0.86      0.78      0.82        97\n",
            "         1.0       0.68      0.79      0.73        57\n",
            "\n",
            "    accuracy                           0.79       154\n",
            "   macro avg       0.77      0.79      0.78       154\n",
            "weighted avg       0.80      0.79      0.79       154\n",
            "\n"
          ]
        }
      ]
    },
    {
      "cell_type": "markdown",
      "metadata": {
        "id": "FnnLo-ncOOV2"
      },
      "source": [
        "## Pipelines\n",
        "\n",
        "Si se quiere usar técnicas de pre-procesamiento (escalamiento, normalización, feature selection, feature transformation, etc) es importante que dichos procesos sean hechos en la estrategia de crossvalidación. No se debe hacer la transformación en todo el conjunto de datos disponible y luego aplicar la estrategia de crossvalidación para evaluar modelos porque se incurre en 'data leakage' y las métricas de evaluación serán mejores de lo real. En Sklearn se puede implementar <b> pipelines </b> para evaluar en crossvalidación todo el conjunto de pasos de pre-procesamiento y modelamiento.\n",
        "\n",
        "Veamos el ejemplo anterior haciendo un MinMaxScaler en los atributos como parte del pipeline de modelamiento:"
      ]
    },
    {
      "cell_type": "code",
      "metadata": {
        "id": "_aVQbnNbOOV2"
      },
      "source": [
        "from sklearn.preprocessing import StandardScaler, MinMaxScaler\n",
        "from sklearn.decomposition import PCA\n",
        "\n",
        "from sklearn.pipeline import make_pipeline\n",
        "\n",
        "# Definimos el pool de pipleines de ML (MinMaxScaler + algoritmo de ML) a evaluar\n",
        "pipelines = []\n",
        "pipelines.append(('LogReg', make_pipeline(MinMaxScaler(), LogisticRegression(solver = 'liblinear'))))\n",
        "pipelines.append(('5NN', make_pipeline(MinMaxScaler(), KNeighborsClassifier(n_neighbors = 5))))\n",
        "pipelines.append(('10NN', make_pipeline(MinMaxScaler(), KNeighborsClassifier(n_neighbors = 10))))\n",
        "pipelines.append(('CART', make_pipeline(MinMaxScaler(), DecisionTreeClassifier(max_depth = None))))\n",
        "pipelines.append(('SVM', make_pipeline(MinMaxScaler(), SVC())))"
      ],
      "execution_count": 9,
      "outputs": []
    },
    {
      "cell_type": "code",
      "metadata": {
        "colab": {
          "base_uri": "https://localhost:8080/"
        },
        "id": "E5RXOlSTOOV2",
        "outputId": "55822c23-c3fc-4cb0-ab1d-c9968a63000c"
      },
      "source": [
        "# Evaluamos cada pipeline de ML en estrategia de 10-fold-CV\n",
        "results = []\n",
        "names = []\n",
        "\n",
        "# Genera el particionamiento de 10 folds que seran usados en cada evaluacion\n",
        "seed = 7\n",
        "kfold = KFold(n_splits = 10, random_state = seed, shuffle = True)  # Especifica el particionador de datos a 10-folds CV\n",
        "\n",
        "# Evalua cada pipeline en crossvalidacion\n",
        "for pipelinename, pipeline in pipelines:\n",
        "    cv_results = cross_val_score(pipeline, X_train, y_train, cv = kfold, scoring = 'balanced_accuracy')\n",
        "    results.append(cv_results)\n",
        "    names.append(pipelinename)\n",
        "    print(\"{}: {} ({})\".format(pipelinename, cv_results.mean(), cv_results.std()))"
      ],
      "execution_count": 10,
      "outputs": [
        {
          "output_type": "stream",
          "name": "stdout",
          "text": [
            "LogReg: 0.6717251882697398 (0.06931206432555224)\n",
            "5NN: 0.6707486466836172 (0.05894333111482771)\n",
            "10NN: 0.6473487056765226 (0.05400344376471425)\n",
            "CART: 0.6394709503300557 (0.06444281453292255)\n",
            "SVM: 0.6797774594056751 (0.060334368273400905)\n"
          ]
        }
      ]
    },
    {
      "cell_type": "code",
      "metadata": {
        "colab": {
          "base_uri": "https://localhost:8080/",
          "height": 478
        },
        "id": "TAOuML81OOV3",
        "outputId": "5ea347ba-6025-42dc-dae2-d6dbb276a6f3"
      },
      "source": [
        "# Muestra graficamente los resultados de balanced_accuracy en crossvalidacion de los pipelines evaluados\n",
        "fig = plt.figure()\n",
        "fig.suptitle('balanced_accuracy obtenidas en 10-fold-CV')\n",
        "ax = fig.add_subplot(111)\n",
        "plt.boxplot(results)\n",
        "ax.set_xticklabels(names)\n",
        "plt.show()"
      ],
      "execution_count": 11,
      "outputs": [
        {
          "output_type": "display_data",
          "data": {
            "text/plain": [
              "<Figure size 640x480 with 1 Axes>"
            ],
            "image/png": "[encoded data removed]"
          },
          "metadata": {}
        }
      ]
    },
    {
      "cell_type": "markdown",
      "metadata": {
        "id": "InZ59NzwOOV3"
      },
      "source": [
        "Una vez identificado el pipeline con mejor desempeño entrenamos un modelo con dicho pipeline y toda la data de entrenamiento."
      ]
    },
    {
      "cell_type": "code",
      "metadata": {
        "colab": {
          "base_uri": "https://localhost:8080/"
        },
        "id": "M4ocyo4mOOV3",
        "outputId": "b0339dd9-66e8-42be-ea7e-62a764a1160b"
      },
      "source": [
        "# Reentrena el pipeline LR con todos los datos de entrenamiento y lo prueba en el conjunto de validacion\n",
        "model = make_pipeline(MinMaxScaler(), LogisticRegression(solver = 'liblinear', class_weight = 'balanced'))  # Usar (class_weight = 'balanced') para entrenar tomando en cuenta el desbalance\n",
        "model.fit(X_train, y_train)\n",
        "\n",
        "# Predice la clase del conjunto de validacion\n",
        "y_predicted = model.predict(X_valid)\n",
        "print(\"Balanced accuracy score:\", balanced_accuracy_score(y_valid, y_predicted))\n",
        "\n",
        "# Muestra la matriz de confusion donde un elemento Cij es el numero de ejemplos predichos como clase j que son realmente de clase i\n",
        "print(\"\\nMatriz de confusión:\")\n",
        "print(confusion_matrix(y_valid, y_predicted))\n",
        "\n",
        "# Muestra un reporte de la clasificacion en validacion\n",
        "print(\"\\nReporte de clasificación en conjunto de validación:\\n\")\n",
        "print(classification_report(y_valid, y_predicted))"
      ],
      "execution_count": 13,
      "outputs": [
        {
          "output_type": "stream",
          "name": "stdout",
          "text": [
            "Balanced accuracy score: 0.7849520708988966\n",
            "\n",
            "Matriz de confusión:\n",
            "[[74 23]\n",
            " [11 46]]\n",
            "\n",
            "Reporte de clasificación en conjunto de validación:\n",
            "\n",
            "              precision    recall  f1-score   support\n",
            "\n",
            "         0.0       0.87      0.76      0.81        97\n",
            "         1.0       0.67      0.81      0.73        57\n",
            "\n",
            "    accuracy                           0.78       154\n",
            "   macro avg       0.77      0.78      0.77       154\n",
            "weighted avg       0.80      0.78      0.78       154\n",
            "\n"
          ]
        }
      ]
    }
  ]
}